{
 "cells": [
  {
   "cell_type": "markdown",
   "id": "fc05a188",
   "metadata": {},
   "source": [
    "# Classifying Wines based on features using Logistic Regression"
   ]
  },
  {
   "cell_type": "markdown",
   "id": "23a3638d",
   "metadata": {},
   "source": [
    "In this data, wine is classed into three varieties represented by 0, 1 and 2. The variety of a wine can be determined or predicted by the some of its qualities, such as the Alcohol, Magensium and Phenol levels, the hue and the color intensity etc."
   ]
  },
  {
   "cell_type": "code",
   "execution_count": 1,
   "id": "843916b9",
   "metadata": {},
   "outputs": [],
   "source": [
    "# Importing libraries\n",
    "import pandas as pd\n",
    "import numpy as np\n",
    "import matplotlib.pyplot as plt\n",
    "import seaborn as sns\n",
    "import warnings\n",
    "warnings.filterwarnings('ignore')\n",
    "from sklearn.preprocessing import StandardScaler\n",
    "from sklearn.compose import ColumnTransformer\n",
    "from sklearn.pipeline import Pipeline\n",
    "from sklearn.linear_model import LogisticRegression\n",
    "from sklearn.model_selection import train_test_split\n",
    "from sklearn.metrics import classification_report, confusion_matrix, precision_score, accuracy_score, recall_score\n",
    "%matplotlib inline"
   ]
  },
  {
   "cell_type": "code",
   "execution_count": 2,
   "id": "22255694",
   "metadata": {
    "scrolled": false
   },
   "outputs": [
    {
     "data": {
      "text/html": [
       "<div>\n",
       "<style scoped>\n",
       "    .dataframe tbody tr th:only-of-type {\n",
       "        vertical-align: middle;\n",
       "    }\n",
       "\n",
       "    .dataframe tbody tr th {\n",
       "        vertical-align: top;\n",
       "    }\n",
       "\n",
       "    .dataframe thead th {\n",
       "        text-align: right;\n",
       "    }\n",
       "</style>\n",
       "<table border=\"1\" class=\"dataframe\">\n",
       "  <thead>\n",
       "    <tr style=\"text-align: right;\">\n",
       "      <th></th>\n",
       "      <th>Alcohol</th>\n",
       "      <th>Malic_acid</th>\n",
       "      <th>Ash</th>\n",
       "      <th>Alcalinity</th>\n",
       "      <th>Magnesium</th>\n",
       "      <th>Phenols</th>\n",
       "      <th>Flavanoids</th>\n",
       "      <th>Nonflavanoids</th>\n",
       "      <th>Proanthocyanins</th>\n",
       "      <th>Color_intensity</th>\n",
       "      <th>Hue</th>\n",
       "      <th>OD280_315_of_diluted_wines</th>\n",
       "      <th>Proline</th>\n",
       "      <th>WineVariety</th>\n",
       "    </tr>\n",
       "  </thead>\n",
       "  <tbody>\n",
       "    <tr>\n",
       "      <th>32</th>\n",
       "      <td>13.68</td>\n",
       "      <td>1.83</td>\n",
       "      <td>2.36</td>\n",
       "      <td>17.2</td>\n",
       "      <td>104</td>\n",
       "      <td>2.42</td>\n",
       "      <td>2.69</td>\n",
       "      <td>0.42</td>\n",
       "      <td>1.97</td>\n",
       "      <td>3.84</td>\n",
       "      <td>1.23</td>\n",
       "      <td>2.87</td>\n",
       "      <td>990</td>\n",
       "      <td>0</td>\n",
       "    </tr>\n",
       "    <tr>\n",
       "      <th>104</th>\n",
       "      <td>12.51</td>\n",
       "      <td>1.73</td>\n",
       "      <td>1.98</td>\n",
       "      <td>20.5</td>\n",
       "      <td>85</td>\n",
       "      <td>2.20</td>\n",
       "      <td>1.92</td>\n",
       "      <td>0.32</td>\n",
       "      <td>1.48</td>\n",
       "      <td>2.94</td>\n",
       "      <td>1.04</td>\n",
       "      <td>3.57</td>\n",
       "      <td>672</td>\n",
       "      <td>1</td>\n",
       "    </tr>\n",
       "    <tr>\n",
       "      <th>74</th>\n",
       "      <td>11.96</td>\n",
       "      <td>1.09</td>\n",
       "      <td>2.30</td>\n",
       "      <td>21.0</td>\n",
       "      <td>101</td>\n",
       "      <td>3.38</td>\n",
       "      <td>2.14</td>\n",
       "      <td>0.13</td>\n",
       "      <td>1.65</td>\n",
       "      <td>3.21</td>\n",
       "      <td>0.99</td>\n",
       "      <td>3.13</td>\n",
       "      <td>886</td>\n",
       "      <td>1</td>\n",
       "    </tr>\n",
       "    <tr>\n",
       "      <th>117</th>\n",
       "      <td>12.42</td>\n",
       "      <td>1.61</td>\n",
       "      <td>2.19</td>\n",
       "      <td>22.5</td>\n",
       "      <td>108</td>\n",
       "      <td>2.00</td>\n",
       "      <td>2.09</td>\n",
       "      <td>0.34</td>\n",
       "      <td>1.61</td>\n",
       "      <td>2.06</td>\n",
       "      <td>1.06</td>\n",
       "      <td>2.96</td>\n",
       "      <td>345</td>\n",
       "      <td>1</td>\n",
       "    </tr>\n",
       "    <tr>\n",
       "      <th>165</th>\n",
       "      <td>13.73</td>\n",
       "      <td>4.36</td>\n",
       "      <td>2.26</td>\n",
       "      <td>22.5</td>\n",
       "      <td>88</td>\n",
       "      <td>1.28</td>\n",
       "      <td>0.47</td>\n",
       "      <td>0.52</td>\n",
       "      <td>1.15</td>\n",
       "      <td>6.62</td>\n",
       "      <td>0.78</td>\n",
       "      <td>1.75</td>\n",
       "      <td>520</td>\n",
       "      <td>2</td>\n",
       "    </tr>\n",
       "  </tbody>\n",
       "</table>\n",
       "</div>"
      ],
      "text/plain": [
       "     Alcohol  Malic_acid   Ash  Alcalinity  Magnesium  Phenols  Flavanoids  \\\n",
       "32     13.68        1.83  2.36        17.2        104     2.42        2.69   \n",
       "104    12.51        1.73  1.98        20.5         85     2.20        1.92   \n",
       "74     11.96        1.09  2.30        21.0        101     3.38        2.14   \n",
       "117    12.42        1.61  2.19        22.5        108     2.00        2.09   \n",
       "165    13.73        4.36  2.26        22.5         88     1.28        0.47   \n",
       "\n",
       "     Nonflavanoids  Proanthocyanins  Color_intensity   Hue  \\\n",
       "32            0.42             1.97             3.84  1.23   \n",
       "104           0.32             1.48             2.94  1.04   \n",
       "74            0.13             1.65             3.21  0.99   \n",
       "117           0.34             1.61             2.06  1.06   \n",
       "165           0.52             1.15             6.62  0.78   \n",
       "\n",
       "     OD280_315_of_diluted_wines  Proline  WineVariety  \n",
       "32                         2.87      990            0  \n",
       "104                        3.57      672            1  \n",
       "74                         3.13      886            1  \n",
       "117                        2.96      345            1  \n",
       "165                        1.75      520            2  "
      ]
     },
     "execution_count": 2,
     "metadata": {},
     "output_type": "execute_result"
    }
   ],
   "source": [
    "wine = pd.read_csv('Wine.csv')\n",
    "wine.sample(5)"
   ]
  },
  {
   "cell_type": "markdown",
   "id": "8fc48df2",
   "metadata": {},
   "source": [
    "### Data Cleaning"
   ]
  },
  {
   "cell_type": "code",
   "execution_count": 3,
   "id": "5381c6f1",
   "metadata": {
    "scrolled": true
   },
   "outputs": [
    {
     "data": {
      "text/plain": [
       "Alcohol                       0\n",
       "Malic_acid                    0\n",
       "Ash                           0\n",
       "Alcalinity                    0\n",
       "Magnesium                     0\n",
       "Phenols                       0\n",
       "Flavanoids                    0\n",
       "Nonflavanoids                 0\n",
       "Proanthocyanins               0\n",
       "Color_intensity               0\n",
       "Hue                           0\n",
       "OD280_315_of_diluted_wines    0\n",
       "Proline                       0\n",
       "WineVariety                   0\n",
       "dtype: int64"
      ]
     },
     "execution_count": 3,
     "metadata": {},
     "output_type": "execute_result"
    }
   ],
   "source": [
    "# Checking for null values\n",
    "wine.isna().sum()"
   ]
  },
  {
   "cell_type": "markdown",
   "id": "62362eb3",
   "metadata": {},
   "source": [
    "No null values"
   ]
  },
  {
   "cell_type": "code",
   "execution_count": 4,
   "id": "9f0f1f31",
   "metadata": {},
   "outputs": [
    {
     "data": {
      "text/plain": [
       "0"
      ]
     },
     "execution_count": 4,
     "metadata": {},
     "output_type": "execute_result"
    }
   ],
   "source": [
    "# Checking for duplicated values\n",
    "wine.duplicated().sum()"
   ]
  },
  {
   "cell_type": "markdown",
   "id": "7ad9a217",
   "metadata": {},
   "source": [
    "No duplicates"
   ]
  },
  {
   "cell_type": "markdown",
   "id": "740e03dc",
   "metadata": {},
   "source": [
    "## EDA"
   ]
  },
  {
   "cell_type": "code",
   "execution_count": 5,
   "id": "026166f5",
   "metadata": {},
   "outputs": [
    {
     "data": {
      "text/plain": [
       "(178, 14)"
      ]
     },
     "execution_count": 5,
     "metadata": {},
     "output_type": "execute_result"
    }
   ],
   "source": [
    "wine.shape"
   ]
  },
  {
   "cell_type": "code",
   "execution_count": 6,
   "id": "18cbad32",
   "metadata": {},
   "outputs": [
    {
     "name": "stdout",
     "output_type": "stream",
     "text": [
      "<class 'pandas.core.frame.DataFrame'>\n",
      "RangeIndex: 178 entries, 0 to 177\n",
      "Data columns (total 14 columns):\n",
      " #   Column                      Non-Null Count  Dtype  \n",
      "---  ------                      --------------  -----  \n",
      " 0   Alcohol                     178 non-null    float64\n",
      " 1   Malic_acid                  178 non-null    float64\n",
      " 2   Ash                         178 non-null    float64\n",
      " 3   Alcalinity                  178 non-null    float64\n",
      " 4   Magnesium                   178 non-null    int64  \n",
      " 5   Phenols                     178 non-null    float64\n",
      " 6   Flavanoids                  178 non-null    float64\n",
      " 7   Nonflavanoids               178 non-null    float64\n",
      " 8   Proanthocyanins             178 non-null    float64\n",
      " 9   Color_intensity             178 non-null    float64\n",
      " 10  Hue                         178 non-null    float64\n",
      " 11  OD280_315_of_diluted_wines  178 non-null    float64\n",
      " 12  Proline                     178 non-null    int64  \n",
      " 13  WineVariety                 178 non-null    int64  \n",
      "dtypes: float64(11), int64(3)\n",
      "memory usage: 19.6 KB\n"
     ]
    }
   ],
   "source": [
    "wine.info()"
   ]
  },
  {
   "cell_type": "markdown",
   "id": "0618a8d4",
   "metadata": {},
   "source": [
    "## Feature Distribution\n",
    "Using Bivariate Analysis to identify the dependency of wine variety on each features. This enables us to select the most import features for modelling"
   ]
  },
  {
   "cell_type": "code",
   "execution_count": 7,
   "id": "c995d735",
   "metadata": {
    "scrolled": false
   },
   "outputs": [
    {
     "data": {
      "image/png": "[encoded data removed]",
      "text/plain": [
       "<Figure size 1080x1008 with 13 Axes>"
      ]
     },
     "metadata": {
      "needs_background": "light"
     },
     "output_type": "display_data"
    }
   ],
   "source": [
    "# Visualizing the feature distribution by the label, Wine variety\n",
    "features = wine.drop('WineVariety', axis= 1).columns\n",
    "\n",
    "fig, axes = plt.subplots(4, 4, figsize= (15, 14))\n",
    "sns.set_palette('inferno')\n",
    "sns.set_style('white')\n",
    "\n",
    "y= 0\n",
    "for column in features:\n",
    "    i, j = divmod(y, 4)\n",
    "    sns.boxplot(ax= axes[i, j], x= 'WineVariety', y= column, data= wine, linewidth= .8)\\\n",
    "    .set(title= column, ylabel= None)\n",
    "    y= y+1\n",
    "\n",
    "for ax in axes.flat:\n",
    "    if not bool(ax.has_data()):\n",
    "        fig.delaxes(ax)\n",
    "\n",
    "plt.suptitle('Distribution of Features by Wine Variety',fontweight= 'bold', y= 1, size = 17)\n",
    "plt.subplots_adjust(hspace= 0.4, wspace= 0.4, top= 0.94)\n",
    "plt.show()"
   ]
  },
  {
   "cell_type": "markdown",
   "id": "99296688",
   "metadata": {},
   "source": [
    "#### **Conclusion**\n",
    "All features have values distribted variably across the three wine varieties and therefore will have a good predictor power, Hence they'll all be fitted in the model."
   ]
  },
  {
   "cell_type": "markdown",
   "id": "28905eb9",
   "metadata": {},
   "source": [
    "## **Modelling**"
   ]
  },
  {
   "cell_type": "markdown",
   "id": "de646576",
   "metadata": {},
   "source": [
    "**Features:**  Alcohol, Malic_acid, Ash, Alcalinity, Magnesium, Phenols, Flavanoids, Nonflavanoids, Proanthocyanins, Color_intensity, Hue, OD280_315_of_diluted_wines, Proline\n",
    "\n",
    "**Label:** WineVariety"
   ]
  },
  {
   "cell_type": "code",
   "execution_count": 8,
   "id": "e0369057",
   "metadata": {},
   "outputs": [],
   "source": [
    "# Subsetting the data into the features and label\n",
    "x = wine.drop('WineVariety', axis= 1)\n",
    "y=  wine['WineVariety']"
   ]
  },
  {
   "cell_type": "code",
   "execution_count": 9,
   "id": "a6f36afe",
   "metadata": {
    "scrolled": false
   },
   "outputs": [
    {
     "data": {
      "text/html": [
       "<div>\n",
       "<style scoped>\n",
       "    .dataframe tbody tr th:only-of-type {\n",
       "        vertical-align: middle;\n",
       "    }\n",
       "\n",
       "    .dataframe tbody tr th {\n",
       "        vertical-align: top;\n",
       "    }\n",
       "\n",
       "    .dataframe thead th {\n",
       "        text-align: right;\n",
       "    }\n",
       "</style>\n",
       "<table border=\"1\" class=\"dataframe\">\n",
       "  <thead>\n",
       "    <tr style=\"text-align: right;\">\n",
       "      <th></th>\n",
       "      <th>Alcohol</th>\n",
       "      <th>Malic_acid</th>\n",
       "      <th>Ash</th>\n",
       "      <th>Alcalinity</th>\n",
       "      <th>Magnesium</th>\n",
       "      <th>Phenols</th>\n",
       "      <th>Flavanoids</th>\n",
       "      <th>Nonflavanoids</th>\n",
       "      <th>Proanthocyanins</th>\n",
       "      <th>Color_intensity</th>\n",
       "      <th>Hue</th>\n",
       "      <th>OD280_315_of_diluted_wines</th>\n",
       "      <th>Proline</th>\n",
       "    </tr>\n",
       "  </thead>\n",
       "  <tbody>\n",
       "    <tr>\n",
       "      <th>0</th>\n",
       "      <td>14.23</td>\n",
       "      <td>1.71</td>\n",
       "      <td>2.43</td>\n",
       "      <td>15.6</td>\n",
       "      <td>127</td>\n",
       "      <td>2.80</td>\n",
       "      <td>3.06</td>\n",
       "      <td>0.28</td>\n",
       "      <td>2.29</td>\n",
       "      <td>5.64</td>\n",
       "      <td>1.04</td>\n",
       "      <td>3.92</td>\n",
       "      <td>1065</td>\n",
       "    </tr>\n",
       "    <tr>\n",
       "      <th>1</th>\n",
       "      <td>13.20</td>\n",
       "      <td>1.78</td>\n",
       "      <td>2.14</td>\n",
       "      <td>11.2</td>\n",
       "      <td>100</td>\n",
       "      <td>2.65</td>\n",
       "      <td>2.76</td>\n",
       "      <td>0.26</td>\n",
       "      <td>1.28</td>\n",
       "      <td>4.38</td>\n",
       "      <td>1.05</td>\n",
       "      <td>3.40</td>\n",
       "      <td>1050</td>\n",
       "    </tr>\n",
       "    <tr>\n",
       "      <th>2</th>\n",
       "      <td>13.16</td>\n",
       "      <td>2.36</td>\n",
       "      <td>2.67</td>\n",
       "      <td>18.6</td>\n",
       "      <td>101</td>\n",
       "      <td>2.80</td>\n",
       "      <td>3.24</td>\n",
       "      <td>0.30</td>\n",
       "      <td>2.81</td>\n",
       "      <td>5.68</td>\n",
       "      <td>1.03</td>\n",
       "      <td>3.17</td>\n",
       "      <td>1185</td>\n",
       "    </tr>\n",
       "    <tr>\n",
       "      <th>3</th>\n",
       "      <td>14.37</td>\n",
       "      <td>1.95</td>\n",
       "      <td>2.50</td>\n",
       "      <td>16.8</td>\n",
       "      <td>113</td>\n",
       "      <td>3.85</td>\n",
       "      <td>3.49</td>\n",
       "      <td>0.24</td>\n",
       "      <td>2.18</td>\n",
       "      <td>7.80</td>\n",
       "      <td>0.86</td>\n",
       "      <td>3.45</td>\n",
       "      <td>1480</td>\n",
       "    </tr>\n",
       "    <tr>\n",
       "      <th>4</th>\n",
       "      <td>13.24</td>\n",
       "      <td>2.59</td>\n",
       "      <td>2.87</td>\n",
       "      <td>21.0</td>\n",
       "      <td>118</td>\n",
       "      <td>2.80</td>\n",
       "      <td>2.69</td>\n",
       "      <td>0.39</td>\n",
       "      <td>1.82</td>\n",
       "      <td>4.32</td>\n",
       "      <td>1.04</td>\n",
       "      <td>2.93</td>\n",
       "      <td>735</td>\n",
       "    </tr>\n",
       "  </tbody>\n",
       "</table>\n",
       "</div>"
      ],
      "text/plain": [
       "   Alcohol  Malic_acid   Ash  Alcalinity  Magnesium  Phenols  Flavanoids  \\\n",
       "0    14.23        1.71  2.43        15.6        127     2.80        3.06   \n",
       "1    13.20        1.78  2.14        11.2        100     2.65        2.76   \n",
       "2    13.16        2.36  2.67        18.6        101     2.80        3.24   \n",
       "3    14.37        1.95  2.50        16.8        113     3.85        3.49   \n",
       "4    13.24        2.59  2.87        21.0        118     2.80        2.69   \n",
       "\n",
       "   Nonflavanoids  Proanthocyanins  Color_intensity   Hue  \\\n",
       "0           0.28             2.29             5.64  1.04   \n",
       "1           0.26             1.28             4.38  1.05   \n",
       "2           0.30             2.81             5.68  1.03   \n",
       "3           0.24             2.18             7.80  0.86   \n",
       "4           0.39             1.82             4.32  1.04   \n",
       "\n",
       "   OD280_315_of_diluted_wines  Proline  \n",
       "0                        3.92     1065  \n",
       "1                        3.40     1050  \n",
       "2                        3.17     1185  \n",
       "3                        3.45     1480  \n",
       "4                        2.93      735  "
      ]
     },
     "execution_count": 9,
     "metadata": {},
     "output_type": "execute_result"
    }
   ],
   "source": [
    "x.head()"
   ]
  },
  {
   "cell_type": "code",
   "execution_count": 10,
   "id": "6fa95e16",
   "metadata": {},
   "outputs": [
    {
     "data": {
      "text/plain": [
       "0    0\n",
       "1    0\n",
       "2    0\n",
       "3    0\n",
       "4    0\n",
       "Name: WineVariety, dtype: int64"
      ]
     },
     "execution_count": 10,
     "metadata": {},
     "output_type": "execute_result"
    }
   ],
   "source": [
    "y.head()"
   ]
  },
  {
   "cell_type": "markdown",
   "id": "b56d46fc",
   "metadata": {},
   "source": [
    "## **Data Preprocessing**"
   ]
  },
  {
   "cell_type": "markdown",
   "id": "969c5e5e",
   "metadata": {},
   "source": [
    "Some features have values that are strikingly higher than other features, and because this could affect the performance of the model, they'll need to be scaled. This prevents features with large values from producing coefficients that disproportionately affect the predictions."
   ]
  },
  {
   "cell_type": "code",
   "execution_count": 11,
   "id": "8073be5b",
   "metadata": {},
   "outputs": [
    {
     "name": "stdout",
     "output_type": "stream",
     "text": [
      "Training Cases: 124\n",
      "Test Cases: 54\n"
     ]
    }
   ],
   "source": [
    "#Splitting the data into train and test sizes\n",
    "X_train, X_test, y_train, y_test = train_test_split(x, y, test_size=0.30, random_state= 1)\n",
    "\n",
    "print('Training Cases:', len(X_train))\n",
    "print('Test Cases:', len(X_test))"
   ]
  },
  {
   "cell_type": "code",
   "execution_count": 12,
   "id": "33cd2417",
   "metadata": {},
   "outputs": [],
   "source": [
    "# Creating a pipeline to carry out scaling on some features\n",
    "feature = ['Alcohol', 'Alcalinity', 'Magnesium', 'Proline', 'Color_intensity'] # columns to be scaled \n",
    "feature_transformer = Pipeline(steps=[\n",
    "    ('scaler', StandardScaler())])\n",
    "\n",
    "# Create preprocessing steps\n",
    "preprocessor = ColumnTransformer(\n",
    "    transformers=[\n",
    "        ('preprocess', feature_transformer, feature)])\n",
    "\n",
    "# Create training pipeline\n",
    "pipeline = Pipeline(steps=[('preprocessor', preprocessor),\n",
    "                           ('regressor', LogisticRegression(solver='lbfgs', multi_class='auto'))])"
   ]
  },
  {
   "cell_type": "code",
   "execution_count": 13,
   "id": "5dcfd526",
   "metadata": {
    "scrolled": false
   },
   "outputs": [],
   "source": [
    "# Fitting the train size on the model\n",
    "model = pipeline.fit(X_train, y_train)"
   ]
  },
  {
   "cell_type": "code",
   "execution_count": 14,
   "id": "6a28432d",
   "metadata": {},
   "outputs": [
    {
     "data": {
      "text/plain": [
       "array([2, 1, 0, 1, 0, 2, 1, 0, 2, 1, 0, 0, 1, 0, 1, 1, 2, 0, 1, 0, 0, 1,\n",
       "       1, 0, 0, 2, 0, 0, 0, 2, 1, 2, 2, 0, 1, 1, 1, 1, 1, 0, 0, 1, 2, 0,\n",
       "       0, 0, 1, 0, 0, 0, 1, 2, 2, 0], dtype=int64)"
      ]
     },
     "execution_count": 14,
     "metadata": {},
     "output_type": "execute_result"
    }
   ],
   "source": [
    "y_pred = model.predict(X_test)\n",
    "y_pred"
   ]
  },
  {
   "cell_type": "code",
   "execution_count": 15,
   "id": "5e66e572",
   "metadata": {},
   "outputs": [
    {
     "data": {
      "text/plain": [
       "0.9274193548387096"
      ]
     },
     "execution_count": 15,
     "metadata": {},
     "output_type": "execute_result"
    }
   ],
   "source": [
    "model.score(X_train, y_train)"
   ]
  },
  {
   "cell_type": "code",
   "execution_count": 16,
   "id": "7d124358",
   "metadata": {},
   "outputs": [
    {
     "data": {
      "text/plain": [
       "array([[23,  0,  0],\n",
       "       [ 1, 18,  0],\n",
       "       [ 0,  1, 11]], dtype=int64)"
      ]
     },
     "execution_count": 16,
     "metadata": {},
     "output_type": "execute_result"
    }
   ],
   "source": [
    "cm= confusion_matrix(y_test, y_pred)\n",
    "cm"
   ]
  },
  {
   "cell_type": "code",
   "execution_count": 17,
   "id": "6dbccd72",
   "metadata": {
    "scrolled": true
   },
   "outputs": [
    {
     "data": {
      "image/png": "[encoded data removed]",
      "text/plain": [
       "<Figure size 576x360 with 1 Axes>"
      ]
     },
     "metadata": {},
     "output_type": "display_data"
    }
   ],
   "source": [
    "# Visualizing the Confusion matrix\n",
    "classes = ['Wine Variety A','Wine Variety B','Wine Variety C']\n",
    "\n",
    "plt.figure(figsize= (8,5))\n",
    "sns.heatmap(cm, annot= True, cbar= False, cmap= 'Oranges', xticklabels= classes, yticklabels= classes)\n",
    "plt.title('Confusion Matrix', fontweight= 'bold', size=15)\n",
    "plt.xlabel(\"Predicted\",  fontweight= 'bold', size=12)\n",
    "plt.ylabel(\"Actual\",  fontweight= 'bold', size=12)\n",
    "plt.show()"
   ]
  },
  {
   "cell_type": "code",
   "execution_count": 18,
   "id": "356fce5e",
   "metadata": {
    "scrolled": false
   },
   "outputs": [
    {
     "name": "stdout",
     "output_type": "stream",
     "text": [
      "              precision    recall  f1-score   support\n",
      "\n",
      "           0       0.96      1.00      0.98        23\n",
      "           1       0.95      0.95      0.95        19\n",
      "           2       1.00      0.92      0.96        12\n",
      "\n",
      "    accuracy                           0.96        54\n",
      "   macro avg       0.97      0.95      0.96        54\n",
      "weighted avg       0.96      0.96      0.96        54\n",
      "\n"
     ]
    }
   ],
   "source": [
    "print(classification_report(y_test, y_pred))"
   ]
  },
  {
   "cell_type": "code",
   "execution_count": 19,
   "id": "3122e357",
   "metadata": {},
   "outputs": [],
   "source": [
    "# Saving the model for later use\n",
    "import joblib\n",
    "path= './model.pkl'\n",
    "joblib.dump(model, path)\n",
    "\n",
    "model= joblib.load(path)"
   ]
  },
  {
   "cell_type": "code",
   "execution_count": 20,
   "id": "faa2f4e6",
   "metadata": {},
   "outputs": [
    {
     "data": {
      "text/html": [
       "<div>\n",
       "<style scoped>\n",
       "    .dataframe tbody tr th:only-of-type {\n",
       "        vertical-align: middle;\n",
       "    }\n",
       "\n",
       "    .dataframe tbody tr th {\n",
       "        vertical-align: top;\n",
       "    }\n",
       "\n",
       "    .dataframe thead th {\n",
       "        text-align: right;\n",
       "    }\n",
       "</style>\n",
       "<table border=\"1\" class=\"dataframe\">\n",
       "  <thead>\n",
       "    <tr style=\"text-align: right;\">\n",
       "      <th></th>\n",
       "      <th>Alcohol</th>\n",
       "      <th>Malic_acid</th>\n",
       "      <th>Ash</th>\n",
       "      <th>Alcalinity</th>\n",
       "      <th>Magnesium</th>\n",
       "      <th>Phenols</th>\n",
       "      <th>Flavanoids</th>\n",
       "      <th>Nonflavanoids</th>\n",
       "      <th>Proanthocyanins</th>\n",
       "      <th>Color_intensity</th>\n",
       "      <th>Hue</th>\n",
       "      <th>OD280_315_of_diluted_wines</th>\n",
       "      <th>Proline</th>\n",
       "    </tr>\n",
       "  </thead>\n",
       "  <tbody>\n",
       "    <tr>\n",
       "      <th>0</th>\n",
       "      <td>13.72</td>\n",
       "      <td>1.43</td>\n",
       "      <td>2.50</td>\n",
       "      <td>16.7</td>\n",
       "      <td>108</td>\n",
       "      <td>3.40</td>\n",
       "      <td>3.67</td>\n",
       "      <td>0.19</td>\n",
       "      <td>2.04</td>\n",
       "      <td>6.80</td>\n",
       "      <td>0.89</td>\n",
       "      <td>2.870</td>\n",
       "      <td>1285</td>\n",
       "    </tr>\n",
       "    <tr>\n",
       "      <th>1</th>\n",
       "      <td>12.37</td>\n",
       "      <td>0.94</td>\n",
       "      <td>1.36</td>\n",
       "      <td>10.6</td>\n",
       "      <td>88</td>\n",
       "      <td>1.98</td>\n",
       "      <td>0.57</td>\n",
       "      <td>0.28</td>\n",
       "      <td>0.42</td>\n",
       "      <td>1.95</td>\n",
       "      <td>1.05</td>\n",
       "      <td>1.832</td>\n",
       "      <td>520</td>\n",
       "    </tr>\n",
       "  </tbody>\n",
       "</table>\n",
       "</div>"
      ],
      "text/plain": [
       "   Alcohol  Malic_acid   Ash  Alcalinity  Magnesium  Phenols  Flavanoids  \\\n",
       "0    13.72        1.43  2.50        16.7        108     3.40        3.67   \n",
       "1    12.37        0.94  1.36        10.6         88     1.98        0.57   \n",
       "\n",
       "   Nonflavanoids  Proanthocyanins  Color_intensity   Hue  \\\n",
       "0           0.19             2.04             6.80  0.89   \n",
       "1           0.28             0.42             1.95  1.05   \n",
       "\n",
       "   OD280_315_of_diluted_wines  Proline  \n",
       "0                       2.870     1285  \n",
       "1                       1.832      520  "
      ]
     },
     "execution_count": 20,
     "metadata": {},
     "output_type": "execute_result"
    }
   ],
   "source": [
    "# Creating a new data to test model on\n",
    "X_new = pd.DataFrame([[13.72, 1.43, 2.5, 16.7, 108, 3.4, 3.67, 0.19, 2.04, 6.8, 0.89, 2.87, 1285], \n",
    "                     [12.37, 0.94, 1.36, 10.6, 88, 1.98, 0.57, 0.28, 0.42, 1.95, 1.05, 1.832, 520]], \n",
    "                     columns = wine.drop('WineVariety', axis= 1).columns)\n",
    "X_new"
   ]
  },
  {
   "cell_type": "code",
   "execution_count": 21,
   "id": "f1be11c8",
   "metadata": {},
   "outputs": [
    {
     "data": {
      "text/plain": [
       "array([0, 1], dtype=int64)"
      ]
     },
     "execution_count": 21,
     "metadata": {},
     "output_type": "execute_result"
    }
   ],
   "source": [
    "# Results\n",
    "model.predict(X_new)"
   ]
  }
 ],
 "metadata": {
  "kernelspec": {
   "display_name": "Python 3 (ipykernel)",
   "language": "python",
   "name": "python3"
  },
  "language_info": {
   "codemirror_mode": {
    "name": "ipython",
    "version": 3
   },
   "file_extension": ".py",
   "mimetype": "text/x-python",
   "name": "python",
   "nbconvert_exporter": "python",
   "pygments_lexer": "ipython3",
   "version": "3.9.12"
  }
 },
 "nbformat": 4,
 "nbformat_minor": 5
}
